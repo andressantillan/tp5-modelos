{
 "cells": [
  {
   "cell_type": "markdown",
   "id": "4093e6a0-fc41-424a-947a-f3be21cb69c5",
   "metadata": {},
   "source": [
    "# TP5"
   ]
  },
  {
   "cell_type": "markdown",
   "id": "0d89d7af-72a3-4089-a403-a9a0a234ac08",
   "metadata": {},
   "source": [
    "1. En un pequeño hotel, los empleados encargados de la cocina quieren preparar el desayuno de los huéspedes del fin de semana. Ellos dividen el trabajo, con la preparación de un artículo por empleado. Se presenta la secuencia de las actividades con la ruta de acceso que representan las tareas para una persona de la siguiente manera:\n",
    "\n",
    "    a) Especifique el modelo y su objetivo, describiendo entradas, salidas, actividades, eventos y clasificación del modelo.\n",
    "    Objetivo: Encontrar la secuencia de actividades criticas para la preparación del desayuno de los huespedes para evitar demoras.\n",
    "    \n",
    "    Entradas: tiempo min y max de cada tarea, dependencia entre actividades.\n",
    "    Salidas: secuencia de actividades criticas.\n",
    "    Actividades: A, B, C, D, E, F, G.\n",
    "    Eventos: Inicio de tarea, fin de tarea.\n",
    "    Clasificacion: discreto, dinamico, estocastico, matematico y formal.\n",
    "    \n",
    "    b) \t![Diagrama](a.png)\n",
    "    "
   ]
  },
  {
   "cell_type": "code",
   "execution_count": null,
   "id": "25540446-ee19-4357-b4f2-c3aa1404c474",
   "metadata": {},
   "outputs": [],
   "source": []
  }
 ],
 "metadata": {
  "kernelspec": {
   "display_name": "Python 3 (ipykernel)",
   "language": "python",
   "name": "python3"
  },
  "language_info": {
   "codemirror_mode": {
    "name": "ipython",
    "version": 3
   },
   "file_extension": ".py",
   "mimetype": "text/x-python",
   "name": "python",
   "nbconvert_exporter": "python",
   "pygments_lexer": "ipython3",
   "version": "3.10.1"
  }
 },
 "nbformat": 4,
 "nbformat_minor": 5
}
