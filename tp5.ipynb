{
 "cells": [
  {
   "cell_type": "markdown",
   "id": "4093e6a0-fc41-424a-947a-f3be21cb69c5",
   "metadata": {},
   "source": [
    "# TP5"
   ]
  },
  {
   "cell_type": "markdown",
   "id": "0d89d7af-72a3-4089-a403-a9a0a234ac08",
   "metadata": {},
   "source": [
    "1. En un pequeño hotel, los empleados encargados de la cocina quieren preparar el desayuno de los huéspedes del fin de semana. Ellos dividen el trabajo, con la preparación de un artículo por empleado. Se presenta la secuencia de las actividades con la ruta de acceso que representan las tareas para una persona de la siguiente manera:\n",
    "\n",
    "    a) Especifique el modelo y su objetivo, describiendo entradas, salidas, actividades, eventos y clasificación del modelo.\n",
    "\n",
    "   Objetivo: Encontrar la secuencia de actividades criticas para la preparación del desayuno de los huespedes para evitar demoras.\n",
    "\n",
    "   Entradas: tiempo min y max de cada tarea, dependencia entre actividades.\n",
    "\n",
    "   Salidas: secuencia de actividades criticas.\n",
    "\n",
    "   Actividades: A, B, C, D, E, F, G.\n",
    "\n",
    "   Eventos: Inicio de tarea, fin de tarea.\n",
    "\n",
    "   Clasificacion: discreto, dinamico, estocastico, matematico y formal.\n",
    "    \n",
    "    b) \t![Diagrama](a.png)\n",
    "    "
   ]
  },
  {
   "cell_type": "code",
   "execution_count": 2,
   "id": "25540446-ee19-4357-b4f2-c3aa1404c474",
   "metadata": {},
   "outputs": [],
   "source": [
    "import numpy as np"
   ]
  },
  {
   "cell_type": "code",
   "execution_count": 3,
   "id": "6374f260-08d3-47f6-86b8-0221e6965d41",
   "metadata": {},
   "outputs": [],
   "source": [
    "CORRIDAS = 100\n",
    "EXPERIMENTOS = 300"
   ]
  },
  {
   "cell_type": "code",
   "execution_count": 8,
   "id": "06bc6e90-90c7-4d18-876c-606f96ed2fbd",
   "metadata": {},
   "outputs": [],
   "source": [
    "def simulacionHotel():\n",
    "    contadores = {\n",
    "        'inferior': 0,\n",
    "        'medio': 0,\n",
    "        'superior': 0\n",
    "    }\n",
    "\n",
    "    for e in range(EXPERIMENTOS):\n",
    "        for c in range(CORRIDAS):\n",
    "            tareaA = np.random.uniform(2, 4)\n",
    "            tareaB = np.random.uniform(3, 6)\n",
    "            tareaC = np.random.uniform(2, 5)\n",
    "            tareaD = np.random.uniform(3, 6)\n",
    "            tareaE = np.random.uniform(2, 5)\n",
    "            tareaF = np.random.uniform(4, 8)\n",
    "            tareaG = np.random.uniform(3, 7)\n",
    "            \n",
    "            accesoSuperior = tareaA + tareaB + tareaC\n",
    "            accesoMedio = tareaD + tareaE\n",
    "            accesoInferior = tareaF + tareaG\n",
    "\n",
    "            contadores['superior'] += accesoSuperior\n",
    "            contadores['medio'] += accesoMedio\n",
    "            contadores['inferior'] += accesoInferior\n",
    "\n",
    "    return contadores"
   ]
  },
  {
   "cell_type": "code",
   "execution_count": 9,
   "id": "1da4efc9-1b4c-440f-9baa-0ac882e84768",
   "metadata": {},
   "outputs": [
    {
     "name": "stdout",
     "output_type": "stream",
     "text": [
      "{'inferior': 329859.5648863909, 'medio': 240090.18192438447, 'superior': 329395.39425162174}\n"
     ]
    }
   ],
   "source": [
    "resultadosHotel = simulacionHotel()\n",
    "print(resultadosHotel)"
   ]
  },
  {
   "cell_type": "code",
   "execution_count": null,
   "id": "741954a0-d7d4-4617-958f-fc0be84f5b36",
   "metadata": {},
   "outputs": [],
   "source": []
  },
  {
   "cell_type": "code",
   "execution_count": null,
   "id": "1fcca329-9cd9-4d7a-afc2-da34547a11de",
   "metadata": {},
   "outputs": [],
   "source": []
  }
 ],
 "metadata": {
  "kernelspec": {
   "display_name": "Python 3 (ipykernel)",
   "language": "python",
   "name": "python3"
  },
  "language_info": {
   "codemirror_mode": {
    "name": "ipython",
    "version": 3
   },
   "file_extension": ".py",
   "mimetype": "text/x-python",
   "name": "python",
   "nbconvert_exporter": "python",
   "pygments_lexer": "ipython3",
   "version": "3.12.3"
  }
 },
 "nbformat": 4,
 "nbformat_minor": 5
}
